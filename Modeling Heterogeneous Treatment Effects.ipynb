{
 "cells": [
  {
   "cell_type": "markdown",
   "metadata": {},
   "source": [
    "### Loading and selecting data"
   ]
  },
  {
   "cell_type": "code",
   "execution_count": 26,
   "metadata": {},
   "outputs": [],
   "source": [
    "library(readr)\n",
    "library(tidyverse)"
   ]
  },
  {
   "cell_type": "code",
   "execution_count": 27,
   "metadata": {},
   "outputs": [
    {
     "name": "stderr",
     "output_type": "stream",
     "text": [
      "Parsed with column specification:\n",
      "cols(\n",
      "  .default = col_double(),\n",
      "  occ80 = \u001b[33mcol_logical()\u001b[39m,\n",
      "  prestg80 = \u001b[33mcol_logical()\u001b[39m,\n",
      "  indus80 = \u001b[33mcol_logical()\u001b[39m,\n",
      "  widowed = \u001b[33mcol_logical()\u001b[39m,\n",
      "  spocc80 = \u001b[33mcol_logical()\u001b[39m,\n",
      "  sppres80 = \u001b[33mcol_logical()\u001b[39m,\n",
      "  spind80 = \u001b[33mcol_logical()\u001b[39m,\n",
      "  agekdbrn = \u001b[33mcol_logical()\u001b[39m,\n",
      "  mawkborn = \u001b[33mcol_logical()\u001b[39m,\n",
      "  `_mergescore` = \u001b[31mcol_character()\u001b[39m\n",
      ")\n",
      "\n",
      "See spec(...) for full column specifications.\n",
      "\n",
      "Warning message:\n",
      "\"181752 parsing failures.\n",
      " row      col           expected actual                          file\n",
      "1471 mawkborn 1/0/T/F/TRUE/FALSE      2 'C:/data/welfarenolabel3.csv'\n",
      "1472 mawkborn 1/0/T/F/TRUE/FALSE      2 'C:/data/welfarenolabel3.csv'\n",
      "1475 widowed  1/0/T/F/TRUE/FALSE      2 'C:/data/welfarenolabel3.csv'\n",
      "1475 mawkborn 1/0/T/F/TRUE/FALSE      2 'C:/data/welfarenolabel3.csv'\n",
      "1477 mawkborn 1/0/T/F/TRUE/FALSE      2 'C:/data/welfarenolabel3.csv'\n",
      ".... ........ .................. ...... .............................\n",
      "See problems(...) for more details.\n",
      "\"\n"
     ]
    }
   ],
   "source": [
    "gss <- read_csv('C:/data/welfarenolabel3.csv', na=c('.i', 'dk', 'na', -999))"
   ]
  },
  {
   "cell_type": "code",
   "execution_count": 28,
   "metadata": {},
   "outputs": [
    {
     "name": "stdout",
     "output_type": "stream",
     "text": [
      "Observations: 36,501\n",
      "Variables: 211\n",
      "$ year          \u001b[3m\u001b[90m<dbl>\u001b[39m\u001b[23m 1986, 1986, 1986, 1986, 1986, 1986, 1986, 1986, 1986,...\n",
      "$ id            \u001b[3m\u001b[90m<dbl>\u001b[39m\u001b[23m 1, 2, 3, 4, 5, 6, 7, 8, 9, 10, 11, 12, 13, 14, 15, 16...\n",
      "$ wrkstat       \u001b[3m\u001b[90m<dbl>\u001b[39m\u001b[23m 1, 7, 1, 5, 2, 7, 7, 1, 1, 2, 1, 7, 1, 7, 7, 8, 1, 7,...\n",
      "$ hrs1          \u001b[3m\u001b[90m<dbl>\u001b[39m\u001b[23m 40, NA, 40, NA, NA, NA, NA, 40, 40, 5, 45, NA, 40, NA...\n",
      "$ hrs2          \u001b[3m\u001b[90m<dbl>\u001b[39m\u001b[23m NA, NA, NA, NA, NA, NA, NA, NA, NA, NA, NA, NA, NA, N...\n",
      "$ evwork        \u001b[3m\u001b[90m<dbl>\u001b[39m\u001b[23m NA, 1, NA, 1, NA, 1, 2, NA, NA, NA, NA, 1, NA, 1, 1, ...\n",
      "$ occ           \u001b[3m\u001b[90m<dbl>\u001b[39m\u001b[23m 270, 195, 184, 311, NA, 902, NA, 123, 184, 185, 372, ...\n",
      "$ prestige      \u001b[3m\u001b[90m<dbl>\u001b[39m\u001b[23m 44, 51, 51, 36, NA, 12, NA, 78, 51, 46, 46, 41, 36, 2...\n",
      "$ wrkslf        \u001b[3m\u001b[90m<dbl>\u001b[39m\u001b[23m 2, 2, 2, 2, 2, 2, NA, 2, 2, 1, 2, 2, 2, 2, 1, 2, 2, N...\n",
      "$ wrkgovt       \u001b[3m\u001b[90m<dbl>\u001b[39m\u001b[23m 2, 2, 2, 1, NA, 1, NA, 2, 2, 2, 2, 2, 2, 2, 2, 2, 2, ...\n",
      "$ commute       \u001b[3m\u001b[90m<dbl>\u001b[39m\u001b[23m 60, 10, 35, 25, 25, 10, NA, 30, 55, 15, 60, 40, 45, 3...\n",
      "$ occ80         \u001b[3m\u001b[90m<lgl>\u001b[39m\u001b[23m NA, NA, NA, NA, NA, NA, NA, NA, NA, NA, NA, NA, NA, N...\n",
      "$ prestg80      \u001b[3m\u001b[90m<lgl>\u001b[39m\u001b[23m NA, NA, NA, NA, NA, NA, NA, NA, NA, NA, NA, NA, NA, N...\n",
      "$ indus80       \u001b[3m\u001b[90m<lgl>\u001b[39m\u001b[23m NA, NA, NA, NA, NA, NA, NA, NA, NA, NA, NA, NA, NA, N...\n",
      "$ marital       \u001b[3m\u001b[90m<dbl>\u001b[39m\u001b[23m 5, 2, 5, 4, 4, 4, 5, 1, 5, 3, 5, 5, 5, 3, 2, 1, 5, 2,...\n",
      "$ agewed        \u001b[3m\u001b[90m<dbl>\u001b[39m\u001b[23m NA, 27, NA, 18, 35, 18, NA, 23, NA, 26, NA, NA, NA, 1...\n",
      "$ divorce       \u001b[3m\u001b[90m<dbl>\u001b[39m\u001b[23m NA, 2, NA, NA, NA, NA, NA, 1, NA, NA, NA, NA, NA, NA,...\n",
      "$ widowed       \u001b[3m\u001b[90m<lgl>\u001b[39m\u001b[23m NA, NA, NA, NA, NA, NA, NA, NA, NA, NA, NA, NA, NA, N...\n",
      "$ spwrksta      \u001b[3m\u001b[90m<dbl>\u001b[39m\u001b[23m NA, NA, NA, NA, NA, NA, NA, 1, NA, NA, NA, NA, NA, NA...\n",
      "$ sphrs1        \u001b[3m\u001b[90m<dbl>\u001b[39m\u001b[23m NA, NA, NA, NA, NA, NA, NA, 40, NA, NA, NA, NA, NA, N...\n",
      "$ sphrs2        \u001b[3m\u001b[90m<dbl>\u001b[39m\u001b[23m NA, NA, NA, NA, NA, NA, NA, NA, NA, NA, NA, NA, NA, N...\n",
      "$ spevwork      \u001b[3m\u001b[90m<dbl>\u001b[39m\u001b[23m NA, NA, NA, NA, NA, NA, NA, NA, NA, NA, NA, NA, NA, N...\n",
      "$ spocc80       \u001b[3m\u001b[90m<lgl>\u001b[39m\u001b[23m NA, NA, NA, NA, NA, NA, NA, NA, NA, NA, NA, NA, NA, N...\n",
      "$ sppres80      \u001b[3m\u001b[90m<lgl>\u001b[39m\u001b[23m NA, NA, NA, NA, NA, NA, NA, NA, NA, NA, NA, NA, NA, N...\n",
      "$ spind80       \u001b[3m\u001b[90m<lgl>\u001b[39m\u001b[23m NA, NA, NA, NA, NA, NA, NA, NA, NA, NA, NA, NA, NA, N...\n",
      "$ sibs          \u001b[3m\u001b[90m<dbl>\u001b[39m\u001b[23m 1, 2, 2, 6, 9, 4, 2, 1, 6, 1, 6, 15, 6, 5, 7, 5, 4, 3...\n",
      "$ childs        \u001b[3m\u001b[90m<dbl>\u001b[39m\u001b[23m 0, 1, 0, 2, 2, 8, 0, 0, 0, 0, 0, 2, 0, 4, 8, 8, 0, 4,...\n",
      "$ age           \u001b[3m\u001b[90m<dbl>\u001b[39m\u001b[23m 28, 54, 44, 77, 44, 47, 19, 36, 27, 51, 24, 37, 25, 3...\n",
      "$ agekdbrn      \u001b[3m\u001b[90m<lgl>\u001b[39m\u001b[23m NA, NA, NA, NA, NA, NA, NA, NA, NA, NA, NA, NA, NA, N...\n",
      "$ educ          \u001b[3m\u001b[90m<dbl>\u001b[39m\u001b[23m 14, 16, 16, 14, 14, 10, 10, 18, 17, 18, 12, 12, 11, 6...\n",
      "$ paeduc        \u001b[3m\u001b[90m<dbl>\u001b[39m\u001b[23m 12, 16, 16, NA, NA, NA, NA, 12, 19, 16, 6, 10, NA, NA...\n",
      "$ maeduc        \u001b[3m\u001b[90m<dbl>\u001b[39m\u001b[23m 0, 12, 16, 12, NA, 12, 9, 12, 16, 12, 8, NA, NA, NA, ...\n",
      "$ speduc        \u001b[3m\u001b[90m<dbl>\u001b[39m\u001b[23m NA, NA, NA, NA, NA, NA, NA, 18, NA, NA, NA, NA, NA, N...\n",
      "$ degree        \u001b[3m\u001b[90m<dbl>\u001b[39m\u001b[23m 1, 3, 3, 1, 2, 0, 0, 4, 3, 4, 1, 1, 0, 0, 0, 0, 0, 0,...\n",
      "$ padeg         \u001b[3m\u001b[90m<dbl>\u001b[39m\u001b[23m 1, 3, 3, NA, 0, 0, NA, 1, 4, 3, 0, 0, NA, NA, 0, NA, ...\n",
      "$ madeg         \u001b[3m\u001b[90m<dbl>\u001b[39m\u001b[23m 0, 1, 3, 1, NA, 1, 0, 1, 3, 1, 0, NA, NA, 0, 0, NA, 0...\n",
      "$ spdeg         \u001b[3m\u001b[90m<dbl>\u001b[39m\u001b[23m NA, NA, NA, NA, NA, NA, NA, 4, NA, NA, NA, NA, NA, NA...\n",
      "$ sex           \u001b[3m\u001b[90m<dbl>\u001b[39m\u001b[23m 1, 2, 2, 2, 2, 1, 2, 1, 2, 1, 2, 2, 1, 2, 2, 1, 1, 2,...\n",
      "$ race          \u001b[3m\u001b[90m<dbl>\u001b[39m\u001b[23m 1, 1, 1, 2, 2, 2, 1, 1, 1, 1, 1, 3, 3, 1, 3, 1, 2, 1,...\n",
      "$ res16         \u001b[3m\u001b[90m<dbl>\u001b[39m\u001b[23m 6, 5, 5, 5, 3, 6, 6, 4, 4, 4, 6, 6, 6, 3, 3, 3, 6, 6,...\n",
      "$ reg16         \u001b[3m\u001b[90m<dbl>\u001b[39m\u001b[23m 2, 3, 2, 5, 6, 2, 2, 1, 0, 3, 2, 2, 2, 0, 0, 0, 2, 2,...\n",
      "$ mobile16      \u001b[3m\u001b[90m<dbl>\u001b[39m\u001b[23m 1, 3, 2, 3, 3, 1, 1, 3, 3, 3, 1, 1, 1, 3, 3, 3, 1, 1,...\n",
      "$ family16      \u001b[3m\u001b[90m<dbl>\u001b[39m\u001b[23m 1, 1, 1, 5, 1, 1, 5, 1, 1, 1, 1, 2, 1, 7, 1, 7, 3, 1,...\n",
      "$ mawork        \u001b[3m\u001b[90m<dbl>\u001b[39m\u001b[23m 2, 2, 2, 1, 2, 1, 2, 1, 1, 1, 2, NA, 1, NA, 2, NA, 1,...\n",
      "$ mawkborn      \u001b[3m\u001b[90m<lgl>\u001b[39m\u001b[23m NA, NA, NA, NA, NA, NA, NA, NA, NA, NA, NA, NA, NA, N...\n",
      "$ born          \u001b[3m\u001b[90m<dbl>\u001b[39m\u001b[23m 1, 1, 1, 1, 1, 1, 2, 1, 1, 1, 1, 2, 1, 2, 2, 2, 1, 2,...\n",
      "$ parborn       \u001b[3m\u001b[90m<dbl>\u001b[39m\u001b[23m 8, 0, 0, 0, 0, 0, 8, 0, 0, 0, 8, 8, 0, 8, 8, 8, 0, 8,...\n",
      "$ granborn      \u001b[3m\u001b[90m<dbl>\u001b[39m\u001b[23m 4, 0, 1, 0, 0, 0, 4, 2, 1, 0, 4, 4, 0, 4, 4, 4, 0, 4,...\n",
      "$ hompop        \u001b[3m\u001b[90m<dbl>\u001b[39m\u001b[23m 2, 1, 1, 2, 3, 1, 4, 2, 2, 1, 2, 3, 4, 5, 1, 2, 2, 6,...\n",
      "$ babies        \u001b[3m\u001b[90m<dbl>\u001b[39m\u001b[23m 0, 0, 0, 0, 0, 0, 0, 0, 0, 0, 0, 0, 0, 0, 0, 0, 0, 0,...\n",
      "$ preteen       \u001b[3m\u001b[90m<dbl>\u001b[39m\u001b[23m 0, 0, 0, 0, 0, 0, 1, 0, 0, 0, 0, 1, 0, 2, 0, 0, 0, 1,...\n",
      "$ teens         \u001b[3m\u001b[90m<dbl>\u001b[39m\u001b[23m 0, 0, 0, 0, 0, 0, 1, 0, 0, 0, 0, 1, 0, 1, 0, 0, 0, 2,...\n",
      "$ adults        \u001b[3m\u001b[90m<dbl>\u001b[39m\u001b[23m 2, 1, 1, 2, 3, 1, 2, 2, 2, 1, 2, 1, 4, 2, 1, 2, 2, 3,...\n",
      "$ unrelat       \u001b[3m\u001b[90m<dbl>\u001b[39m\u001b[23m 1, NA, NA, 0, 0, NA, 0, 0, 1, NA, 0, 0, 3, 1, NA, 1, ...\n",
      "$ earnrs        \u001b[3m\u001b[90m<dbl>\u001b[39m\u001b[23m 1, 1, 1, 1, NA, 1, 1, 2, 1, 1, 2, 0, 1, 0, 0, 0, 1, 1...\n",
      "$ income        \u001b[3m\u001b[90m<dbl>\u001b[39m\u001b[23m 11, 12, 12, NA, NA, 5, 9, 8, 8, 11, 12, NA, 9, 8, 7, ...\n",
      "$ rincome       \u001b[3m\u001b[90m<dbl>\u001b[39m\u001b[23m 11, NA, 6, NA, NA, NA, NA, 8, 4, 8, NA, NA, 9, NA, NA...\n",
      "$ income86      \u001b[3m\u001b[90m<dbl>\u001b[39m\u001b[23m 13, 19, 15, NA, NA, 5, 9, 8, 8, 13, 18, NA, 10, 8, 7,...\n",
      "$ partyid       \u001b[3m\u001b[90m<dbl>\u001b[39m\u001b[23m 3, 6, 0, 0, 0, 1, 5, 1, 1, 4, 1, 2, 0, 0, 1, 1, 1, 1,...\n",
      "$ polviews      \u001b[3m\u001b[90m<dbl>\u001b[39m\u001b[23m 4.000000, 6.000000, 2.000000, 4.000000, 4.000000, 1.0...\n",
      "$ w             \u001b[3m\u001b[90m<dbl>\u001b[39m\u001b[23m 0, 0, 0, 0, 0, 0, 1, 0, 0, 1, 0, 1, 1, 0, 0, 0, 1, 1,...\n",
      "$ y             \u001b[3m\u001b[90m<dbl>\u001b[39m\u001b[23m 0, 1, 1, 0, 0, 0, 0, 0, 0, 1, 1, 0, 0, 0, 1, 1, 0, 0,...\n",
      "$ `_merge`      \u001b[3m\u001b[90m<dbl>\u001b[39m\u001b[23m 3, 3, 3, 3, 3, 3, 3, 3, 3, 3, 3, 3, 3, 3, 3, 3, 3, 3,...\n",
      "$ wrkstat_miss  \u001b[3m\u001b[90m<dbl>\u001b[39m\u001b[23m 0, 0, 0, 0, 0, 0, 0, 0, 0, 0, 0, 0, 0, 0, 0, 0, 0, 0,...\n",
      "$ hrs1_miss     \u001b[3m\u001b[90m<dbl>\u001b[39m\u001b[23m 0, 1, 0, 1, 1, 1, 1, 0, 0, 0, 0, 1, 0, 1, 1, 1, 0, 1,...\n",
      "$ hrs2_miss     \u001b[3m\u001b[90m<dbl>\u001b[39m\u001b[23m 1, 1, 1, 1, 1, 1, 1, 1, 1, 1, 1, 1, 1, 1, 1, 1, 1, 1,...\n",
      "$ evwork_miss   \u001b[3m\u001b[90m<dbl>\u001b[39m\u001b[23m 1, 0, 1, 0, 1, 0, 0, 1, 1, 1, 1, 0, 1, 0, 0, 0, 1, 0,...\n",
      "$ wrkslf_miss   \u001b[3m\u001b[90m<dbl>\u001b[39m\u001b[23m 0, 0, 0, 0, 0, 0, 1, 0, 0, 0, 0, 0, 0, 0, 0, 0, 0, 1,...\n",
      "$ wrkgovt_miss  \u001b[3m\u001b[90m<dbl>\u001b[39m\u001b[23m 0, 0, 0, 0, 1, 0, 1, 0, 0, 0, 0, 0, 0, 0, 0, 0, 0, 1,...\n",
      "$ commute_miss  \u001b[3m\u001b[90m<dbl>\u001b[39m\u001b[23m 0, 0, 0, 0, 0, 0, 1, 0, 0, 0, 0, 0, 0, 0, 0, 0, 0, 1,...\n",
      "$ occ80_miss    \u001b[3m\u001b[90m<dbl>\u001b[39m\u001b[23m 1, 1, 1, 1, 1, 1, 1, 1, 1, 1, 1, 1, 1, 1, 1, 1, 1, 1,...\n",
      "$ indus80_miss  \u001b[3m\u001b[90m<dbl>\u001b[39m\u001b[23m 1, 1, 1, 1, 1, 1, 1, 1, 1, 1, 1, 1, 1, 1, 1, 1, 1, 1,...\n",
      "$ agewed_miss   \u001b[3m\u001b[90m<dbl>\u001b[39m\u001b[23m 1, 0, 1, 0, 0, 0, 1, 0, 1, 0, 1, 1, 1, 0, 0, 0, 1, 0,...\n",
      "$ divorce_miss  \u001b[3m\u001b[90m<dbl>\u001b[39m\u001b[23m 1, 0, 1, 1, 1, 1, 1, 0, 1, 1, 1, 1, 1, 1, 0, 0, 1, 0,...\n",
      "$ widowed_miss  \u001b[3m\u001b[90m<dbl>\u001b[39m\u001b[23m 1, 1, 1, 1, 1, 1, 1, 1, 1, 1, 1, 1, 1, 1, 1, 1, 1, 1,...\n",
      "$ spwrksta_miss \u001b[3m\u001b[90m<dbl>\u001b[39m\u001b[23m 1, 1, 1, 1, 1, 1, 1, 0, 1, 1, 1, 1, 1, 1, 1, 0, 1, 1,...\n",
      "$ sphrs1_miss   \u001b[3m\u001b[90m<dbl>\u001b[39m\u001b[23m 1, 1, 1, 1, 1, 1, 1, 0, 1, 1, 1, 1, 1, 1, 1, 1, 1, 1,...\n",
      "$ sphrs2_miss   \u001b[3m\u001b[90m<dbl>\u001b[39m\u001b[23m 1, 1, 1, 1, 1, 1, 1, 1, 1, 1, 1, 1, 1, 1, 1, 1, 1, 1,...\n",
      "$ spevwork_miss \u001b[3m\u001b[90m<dbl>\u001b[39m\u001b[23m 1, 1, 1, 1, 1, 1, 1, 1, 1, 1, 1, 1, 1, 1, 1, 1, 1, 1,...\n",
      "$ spocc80_miss  \u001b[3m\u001b[90m<dbl>\u001b[39m\u001b[23m 1, 1, 1, 1, 1, 1, 1, 1, 1, 1, 1, 1, 1, 1, 1, 1, 1, 1,...\n",
      "$ spind80_miss  \u001b[3m\u001b[90m<dbl>\u001b[39m\u001b[23m 1, 1, 1, 1, 1, 1, 1, 1, 1, 1, 1, 1, 1, 1, 1, 1, 1, 1,...\n",
      "$ sibs_miss     \u001b[3m\u001b[90m<dbl>\u001b[39m\u001b[23m 0, 0, 0, 0, 0, 0, 0, 0, 0, 0, 0, 0, 0, 0, 0, 0, 0, 0,...\n",
      "$ agekdbrn_miss \u001b[3m\u001b[90m<dbl>\u001b[39m\u001b[23m 1, 1, 1, 1, 1, 1, 1, 1, 1, 1, 1, 1, 1, 1, 1, 1, 1, 1,...\n",
      "$ paeduc_miss   \u001b[3m\u001b[90m<dbl>\u001b[39m\u001b[23m 0, 0, 0, 1, 1, 1, 1, 0, 0, 0, 0, 0, 1, 1, 1, 1, 1, 0,...\n",
      "$ maeduc_miss   \u001b[3m\u001b[90m<dbl>\u001b[39m\u001b[23m 0, 0, 0, 0, 1, 0, 0, 0, 0, 0, 0, 1, 1, 1, 0, 1, 0, 0,...\n",
      "$ speduc_miss   \u001b[3m\u001b[90m<dbl>\u001b[39m\u001b[23m 1, 1, 1, 1, 1, 1, 1, 0, 1, 1, 1, 1, 1, 1, 1, 1, 1, 1,...\n",
      "$ padeg_miss    \u001b[3m\u001b[90m<dbl>\u001b[39m\u001b[23m 0, 0, 0, 1, 0, 0, 1, 0, 0, 0, 0, 0, 1, 1, 0, 1, 0, 0,...\n",
      "$ madeg_miss    \u001b[3m\u001b[90m<dbl>\u001b[39m\u001b[23m 0, 0, 0, 0, 1, 0, 0, 0, 0, 0, 0, 1, 1, 0, 0, 1, 0, 0,...\n",
      "$ spdeg_miss    \u001b[3m\u001b[90m<dbl>\u001b[39m\u001b[23m 1, 1, 1, 1, 1, 1, 1, 0, 1, 1, 1, 1, 1, 1, 1, 1, 1, 1,...\n",
      "$ res16_miss    \u001b[3m\u001b[90m<dbl>\u001b[39m\u001b[23m 0, 0, 0, 0, 0, 0, 0, 0, 0, 0, 0, 0, 0, 0, 0, 0, 0, 0,...\n",
      "$ mobile16_miss \u001b[3m\u001b[90m<dbl>\u001b[39m\u001b[23m 0, 0, 0, 0, 0, 0, 0, 0, 0, 0, 0, 0, 0, 0, 0, 0, 0, 0,...\n",
      "$ family16_miss \u001b[3m\u001b[90m<dbl>\u001b[39m\u001b[23m 0, 0, 0, 0, 0, 0, 0, 0, 0, 0, 0, 0, 0, 0, 0, 0, 0, 0,...\n",
      "$ mawork_miss   \u001b[3m\u001b[90m<dbl>\u001b[39m\u001b[23m 0, 0, 0, 0, 0, 0, 0, 0, 0, 0, 0, 1, 0, 1, 0, 1, 0, 0,...\n",
      "$ mawkborn_miss \u001b[3m\u001b[90m<dbl>\u001b[39m\u001b[23m 1, 1, 1, 1, 1, 1, 1, 1, 1, 1, 1, 1, 1, 1, 1, 1, 1, 1,...\n",
      "$ born_miss     \u001b[3m\u001b[90m<dbl>\u001b[39m\u001b[23m 0, 0, 0, 0, 0, 0, 0, 0, 0, 0, 0, 0, 0, 0, 0, 0, 0, 0,...\n",
      "$ parborn_miss  \u001b[3m\u001b[90m<dbl>\u001b[39m\u001b[23m 0, 0, 0, 0, 0, 0, 0, 0, 0, 0, 0, 0, 0, 0, 0, 0, 0, 0,...\n",
      "$ granborn_miss \u001b[3m\u001b[90m<dbl>\u001b[39m\u001b[23m 0, 0, 0, 0, 0, 0, 0, 0, 0, 0, 0, 0, 0, 0, 0, 0, 0, 0,...\n",
      "$ unrelat_miss  \u001b[3m\u001b[90m<dbl>\u001b[39m\u001b[23m 0, 1, 1, 0, 0, 1, 0, 0, 0, 1, 0, 0, 0, 0, 1, 0, 0, 0,...\n",
      "$ rincome_miss  \u001b[3m\u001b[90m<dbl>\u001b[39m\u001b[23m 0, 1, 0, 1, 1, 1, 1, 0, 0, 0, 1, 1, 0, 1, 1, 1, 0, 1,...\n",
      "$ income86_miss \u001b[3m\u001b[90m<dbl>\u001b[39m\u001b[23m 0, 0, 0, 1, 1, 0, 0, 0, 0, 0, 0, 1, 0, 0, 0, 0, 0, 1,...\n",
      "$ polviews_miss \u001b[3m\u001b[90m<dbl>\u001b[39m\u001b[23m 0, 0, 0, 0, 0, 0, 0, 0, 0, 0, 0, 0, 0, 0, 0, 0, 0, 0,...\n",
      "$ polviews_num  \u001b[3m\u001b[90m<dbl>\u001b[39m\u001b[23m 0, 2, -2, 0, 0, -3, 0, -2, -2, 1, 0, NA, -3, -3, 2, -...\n",
      "$ income_num    \u001b[3m\u001b[90m<dbl>\u001b[39m\u001b[23m 20, 25, 25, NA, NA, 5, 10, 8, 8, 20, 25, NA, 10, 8, 7...\n",
      "$ racdif1       \u001b[3m\u001b[90m<dbl>\u001b[39m\u001b[23m 0, 0, 1, 1, 1, 1, 1, 1, 1, 0, 0, 1, 1, NA, 0, 0, 1, 0...\n",
      "$ racdif2       \u001b[3m\u001b[90m<dbl>\u001b[39m\u001b[23m 0, 0, 0, 0, 0, 0, 0, 0, 0, 0, 0, 0, 0, NA, 0, 0, 0, 1...\n",
      "$ racdif3       \u001b[3m\u001b[90m<dbl>\u001b[39m\u001b[23m 1, 1, 1, 1, 1, 1, 0, 1, 1, 1, 0, NA, 1, NA, 0, 0, 1, ...\n",
      "$ racdif4       \u001b[3m\u001b[90m<dbl>\u001b[39m\u001b[23m NA, 1, 1, 0, 0, 0, 1, 0, 0, 1, 1, 1, 1, 1, 0, 0, 1, 1...\n",
      "$ attblack      \u001b[3m\u001b[90m<dbl>\u001b[39m\u001b[23m 0.3333333, 0.5000000, 0.7500000, 0.5000000, 0.5000000...\n",
      "$ wrkstat_mean  \u001b[3m\u001b[90m<dbl>\u001b[39m\u001b[23m 2.900022, 2.900022, 2.900022, 2.900022, 2.900022, 2.9...\n",
      "$ hrs1_mean     \u001b[3m\u001b[90m<dbl>\u001b[39m\u001b[23m 41.73332, 41.73332, 41.73332, 41.73332, 41.73332, 41....\n",
      "$ hrs2_mean     \u001b[3m\u001b[90m<dbl>\u001b[39m\u001b[23m 38.6137, 38.6137, 38.6137, 38.6137, 38.6137, 38.6137,...\n",
      "$ evwork_mean   \u001b[3m\u001b[90m<dbl>\u001b[39m\u001b[23m 1.139541, 1.139541, 1.139541, 1.139541, 1.139541, 1.1...\n",
      "$ occ_mean      \u001b[3m\u001b[90m<dbl>\u001b[39m\u001b[23m 449.416, 449.416, 449.416, 449.416, 449.416, 449.416,...\n",
      "$ prestige_mean \u001b[3m\u001b[90m<dbl>\u001b[39m\u001b[23m 40.33592, 40.33592, 40.33592, 40.33592, 40.33592, 40....\n",
      "$ wrkslf_mean   \u001b[3m\u001b[90m<dbl>\u001b[39m\u001b[23m 1.879911, 1.879911, 1.879911, 1.879911, 1.879911, 1.8...\n",
      "$ wrkgovt_mean  \u001b[3m\u001b[90m<dbl>\u001b[39m\u001b[23m 1.820366, 1.820366, 1.820366, 1.820366, 1.820366, 1.8...\n",
      "$ commute_mean  \u001b[3m\u001b[90m<dbl>\u001b[39m\u001b[23m 20.24586, 20.24586, 20.24586, 20.24586, 20.24586, 20....\n",
      "$ occ80_mean    \u001b[3m\u001b[90m<dbl>\u001b[39m\u001b[23m 360.3068, 360.3068, 360.3068, 360.3068, 360.3068, 360...\n",
      "$ prestg80_mean \u001b[3m\u001b[90m<dbl>\u001b[39m\u001b[23m 43.66402, 43.66402, 43.66402, 43.66402, 43.66402, 43....\n",
      "$ indus80_mean  \u001b[3m\u001b[90m<dbl>\u001b[39m\u001b[23m 592.1708, 592.1708, 592.1708, 592.1708, 592.1708, 592...\n",
      "$ marital_mean  \u001b[3m\u001b[90m<dbl>\u001b[39m\u001b[23m 2.401074, 2.401074, 2.401074, 2.401074, 2.401074, 2.4...\n",
      "$ agewed_mean   \u001b[3m\u001b[90m<dbl>\u001b[39m\u001b[23m 22.38287, 22.38287, 22.38287, 22.38287, 22.38287, 22....\n",
      "$ divorce_mean  \u001b[3m\u001b[90m<dbl>\u001b[39m\u001b[23m 1.773332, 1.773332, 1.773332, 1.773332, 1.773332, 1.7...\n",
      "$ widowed_mean  \u001b[3m\u001b[90m<dbl>\u001b[39m\u001b[23m 1.967729, 1.967729, 1.967729, 1.967729, 1.967729, 1.9...\n",
      "$ spwrksta_mean \u001b[3m\u001b[90m<dbl>\u001b[39m\u001b[23m 2.743669, 2.743669, 2.743669, 2.743669, 2.743669, 2.7...\n",
      "$ sphrs1_mean   \u001b[3m\u001b[90m<dbl>\u001b[39m\u001b[23m 42.09499, 42.09499, 42.09499, 42.09499, 42.09499, 42....\n",
      "$ sphrs2_mean   \u001b[3m\u001b[90m<dbl>\u001b[39m\u001b[23m 41.26045, 41.26045, 41.26045, 41.26045, 41.26045, 41....\n",
      "$ spevwork_mean \u001b[3m\u001b[90m<dbl>\u001b[39m\u001b[23m 1.154567, 1.154567, 1.154567, 1.154567, 1.154567, 1.1...\n",
      "$ spocc80_mean  \u001b[3m\u001b[90m<dbl>\u001b[39m\u001b[23m 354.6032, 354.6032, 354.6032, 354.6032, 354.6032, 354...\n",
      "$ sppres80_mean \u001b[3m\u001b[90m<dbl>\u001b[39m\u001b[23m 45.06754, 45.06754, 45.06754, 45.06754, 45.06754, 45....\n",
      "$ spind80_mean  \u001b[3m\u001b[90m<dbl>\u001b[39m\u001b[23m 574.4346, 574.4346, 574.4346, 574.4346, 574.4346, 574...\n",
      "$ sibs_mean     \u001b[3m\u001b[90m<dbl>\u001b[39m\u001b[23m 3.786337, 3.786337, 3.786337, 3.786337, 3.786337, 3.7...\n",
      "$ childs_mean   \u001b[3m\u001b[90m<dbl>\u001b[39m\u001b[23m 1.880601, 1.880601, 1.880601, 1.880601, 1.880601, 1.8...\n",
      "$ age_mean      \u001b[3m\u001b[90m<dbl>\u001b[39m\u001b[23m 46.09159, 46.09159, 46.09159, 46.09159, 46.09159, 46....\n",
      "$ agekdbrn_mean \u001b[3m\u001b[90m<dbl>\u001b[39m\u001b[23m 23.76206, 23.76206, 23.76206, 23.76206, 23.76206, 23....\n",
      "$ educ_mean     \u001b[3m\u001b[90m<dbl>\u001b[39m\u001b[23m 13.15104, 13.15104, 13.15104, 13.15104, 13.15104, 13....\n",
      "$ paeduc_mean   \u001b[3m\u001b[90m<dbl>\u001b[39m\u001b[23m 11.08585, 11.08585, 11.08585, 11.08585, 11.08585, 11....\n",
      "$ maeduc_mean   \u001b[3m\u001b[90m<dbl>\u001b[39m\u001b[23m 11.17079, 11.17079, 11.17079, 11.17079, 11.17079, 11....\n",
      "$ speduc_mean   \u001b[3m\u001b[90m<dbl>\u001b[39m\u001b[23m 13.27604, 13.27604, 13.27604, 13.27604, 13.27604, 13....\n",
      "$ degree_mean   \u001b[3m\u001b[90m<dbl>\u001b[39m\u001b[23m 1.444066, 1.444066, 1.444066, 1.444066, 1.444066, 1.4...\n",
      "$ padeg_mean    \u001b[3m\u001b[90m<dbl>\u001b[39m\u001b[23m 0.9897278, 0.9897278, 0.9897278, 0.9897278, 0.9897278...\n",
      "$ madeg_mean    \u001b[3m\u001b[90m<dbl>\u001b[39m\u001b[23m 0.916449, 0.916449, 0.916449, 0.916449, 0.916449, 0.9...\n",
      "$ spdeg_mean    \u001b[3m\u001b[90m<dbl>\u001b[39m\u001b[23m 1.521684, 1.521684, 1.521684, 1.521684, 1.521684, 1.5...\n",
      "$ sex_mean      \u001b[3m\u001b[90m<dbl>\u001b[39m\u001b[23m 1.56193, 1.56193, 1.56193, 1.56193, 1.56193, 1.56193,...\n",
      "$ race_mean     \u001b[3m\u001b[90m<dbl>\u001b[39m\u001b[23m 1.273554, 1.273554, 1.273554, 1.273554, 1.273554, 1.2...\n",
      "$ res16_mean    \u001b[3m\u001b[90m<dbl>\u001b[39m\u001b[23m 3.50325, 3.50325, 3.50325, 3.50325, 3.50325, 3.50325,...\n",
      "$ reg16_mean    \u001b[3m\u001b[90m<dbl>\u001b[39m\u001b[23m 4.367524, 4.367524, 4.367524, 4.367524, 4.367524, 4.3...\n",
      "$ mobile16_mean \u001b[3m\u001b[90m<dbl>\u001b[39m\u001b[23m 1.948312, 1.948312, 1.948312, 1.948312, 1.948312, 1.9...\n",
      "$ family16_mean \u001b[3m\u001b[90m<dbl>\u001b[39m\u001b[23m 1.960909, 1.960909, 1.960909, 1.960909, 1.960909, 1.9...\n",
      "$ mawork_mean   \u001b[3m\u001b[90m<dbl>\u001b[39m\u001b[23m 1.352475, 1.352475, 1.352475, 1.352475, 1.352475, 1.3...\n",
      "$ mawkborn_mean \u001b[3m\u001b[90m<dbl>\u001b[39m\u001b[23m 1.538938, 1.538938, 1.538938, 1.538938, 1.538938, 1.5...\n",
      "$ born_mean     \u001b[3m\u001b[90m<dbl>\u001b[39m\u001b[23m 1.08979, 1.08979, 1.08979, 1.08979, 1.08979, 1.08979,...\n",
      "$ parborn_mean  \u001b[3m\u001b[90m<dbl>\u001b[39m\u001b[23m 1.053402, 1.053402, 1.053402, 1.053402, 1.053402, 1.0...\n",
      "$ granborn_mean \u001b[3m\u001b[90m<dbl>\u001b[39m\u001b[23m 1.12463, 1.12463, 1.12463, 1.12463, 1.12463, 1.12463,...\n",
      "$ hompop_mean   \u001b[3m\u001b[90m<dbl>\u001b[39m\u001b[23m 2.531726, 2.531726, 2.531726, 2.531726, 2.531726, 2.5...\n",
      "$ babies_mean   \u001b[3m\u001b[90m<dbl>\u001b[39m\u001b[23m 0.2133245, 0.2133245, 0.2133245, 0.2133245, 0.2133245...\n",
      "$ preteen_mean  \u001b[3m\u001b[90m<dbl>\u001b[39m\u001b[23m 0.2592163, 0.2592163, 0.2592163, 0.2592163, 0.2592163...\n",
      "$ teens_mean    \u001b[3m\u001b[90m<dbl>\u001b[39m\u001b[23m 0.1852688, 0.1852688, 0.1852688, 0.1852688, 0.1852688...\n",
      "$ adults_mean   \u001b[3m\u001b[90m<dbl>\u001b[39m\u001b[23m 1.86542, 1.86542, 1.86542, 1.86542, 1.86542, 1.86542,...\n",
      "$ unrelat_mean  \u001b[3m\u001b[90m<dbl>\u001b[39m\u001b[23m 0.1614211, 0.1614211, 0.1614211, 0.1614211, 0.1614211...\n",
      "$ earnrs_mean   \u001b[3m\u001b[90m<dbl>\u001b[39m\u001b[23m 1.4178, 1.4178, 1.4178, 1.4178, 1.4178, 1.4178, 1.417...\n",
      "$ income_mean   \u001b[3m\u001b[90m<dbl>\u001b[39m\u001b[23m 10.55557, 10.55557, 10.55557, 10.55557, 10.55557, 10....\n",
      "$ rincome_mean  \u001b[3m\u001b[90m<dbl>\u001b[39m\u001b[23m 9.74633, 9.74633, 9.74633, 9.74633, 9.74633, 9.74633,...\n",
      "$ income86_mean \u001b[3m\u001b[90m<dbl>\u001b[39m\u001b[23m 13.07324, 13.07324, 13.07324, 13.07324, 13.07324, 13....\n",
      "$ partyid_mean  \u001b[3m\u001b[90m<dbl>\u001b[39m\u001b[23m 2.821634, 2.821634, 2.821634, 2.821634, 2.821634, 2.8...\n",
      "$ polviews_mean \u001b[3m\u001b[90m<dbl>\u001b[39m\u001b[23m 4.122009, 4.122009, 4.122009, 4.122009, 4.122009, 4.1...\n",
      "$ temp          \u001b[3m\u001b[90m<dbl>\u001b[39m\u001b[23m 1, NA, NA, NA, NA, NA, NA, NA, NA, NA, NA, NA, NA, NA...\n",
      "$ `_mergescore` \u001b[3m\u001b[90m<chr>\u001b[39m\u001b[23m \"matched (3)\", \"master only (1)\", \"master only (1)\", ...\n",
      "$ prestige_miss \u001b[3m\u001b[90m<dbl>\u001b[39m\u001b[23m 0, 0, 0, 0, 1, 0, 1, 0, 0, 0, 0, 0, 0, 0, 0, 0, 0, 1,...\n",
      "$ degree_miss   \u001b[3m\u001b[90m<dbl>\u001b[39m\u001b[23m 0, 0, 0, 0, 0, 0, 0, 0, 0, 0, 0, 0, 0, 0, 0, 0, 0, 0,...\n",
      "$ childs_miss   \u001b[3m\u001b[90m<dbl>\u001b[39m\u001b[23m 0, 0, 0, 0, 0, 0, 0, 0, 0, 0, 0, 0, 0, 0, 0, 0, 0, 0,...\n",
      "$ prestg80_miss \u001b[3m\u001b[90m<dbl>\u001b[39m\u001b[23m 1, 1, 1, 1, 1, 1, 1, 1, 1, 1, 1, 1, 1, 1, 1, 1, 1, 1,...\n",
      "$ occ_miss      \u001b[3m\u001b[90m<dbl>\u001b[39m\u001b[23m 0, 0, 0, 0, 1, 0, 1, 0, 0, 0, 0, 0, 0, 0, 0, 0, 0, 1,...\n",
      "$ marital_miss  \u001b[3m\u001b[90m<dbl>\u001b[39m\u001b[23m 0, 0, 0, 0, 0, 0, 0, 0, 0, 0, 0, 0, 0, 0, 0, 0, 0, 0,...\n",
      "$ hompop_miss   \u001b[3m\u001b[90m<dbl>\u001b[39m\u001b[23m 0, 0, 0, 0, 0, 0, 0, 0, 0, 0, 0, 0, 0, 0, 0, 0, 0, 0,...\n",
      "$ educ_miss     \u001b[3m\u001b[90m<dbl>\u001b[39m\u001b[23m 0, 0, 0, 0, 0, 0, 0, 0, 0, 0, 0, 0, 0, 0, 0, 0, 0, 0,...\n",
      "$ babies_miss   \u001b[3m\u001b[90m<dbl>\u001b[39m\u001b[23m 0, 0, 0, 0, 0, 0, 0, 0, 0, 0, 0, 0, 0, 0, 0, 0, 0, 0,...\n",
      "$ sppres80_miss \u001b[3m\u001b[90m<dbl>\u001b[39m\u001b[23m 1, 1, 1, 1, 1, 1, 1, 1, 1, 1, 1, 1, 1, 1, 1, 1, 1, 1,...\n",
      "$ age_miss      \u001b[3m\u001b[90m<dbl>\u001b[39m\u001b[23m 0, 0, 0, 0, 0, 0, 0, 0, 0, 0, 0, 0, 0, 0, 0, 0, 0, 0,...\n",
      "$ teens_miss    \u001b[3m\u001b[90m<dbl>\u001b[39m\u001b[23m 0, 0, 0, 0, 0, 0, 0, 0, 0, 0, 0, 0, 0, 0, 0, 0, 0, 0,...\n",
      "$ preteen_miss  \u001b[3m\u001b[90m<dbl>\u001b[39m\u001b[23m 0, 0, 0, 0, 0, 0, 0, 0, 0, 0, 0, 0, 0, 0, 0, 0, 0, 0,...\n",
      "$ adults_miss   \u001b[3m\u001b[90m<dbl>\u001b[39m\u001b[23m 0, 0, 0, 0, 0, 0, 0, 0, 0, 0, 0, 0, 0, 0, 0, 0, 0, 0,...\n",
      "$ earnrs_miss   \u001b[3m\u001b[90m<dbl>\u001b[39m\u001b[23m 0, 0, 0, 0, 1, 0, 0, 0, 0, 0, 0, 0, 0, 0, 0, 0, 0, 0,...\n",
      "$ income_miss   \u001b[3m\u001b[90m<dbl>\u001b[39m\u001b[23m 0, 0, 0, 1, 1, 0, 0, 0, 0, 0, 0, 1, 0, 0, 0, 0, 0, 1,...\n",
      "$ partyid_miss  \u001b[3m\u001b[90m<dbl>\u001b[39m\u001b[23m 0, 0, 0, 0, 0, 0, 0, 0, 0, 0, 0, 0, 0, 0, 0, 0, 0, 0,...\n",
      "$ attblack_miss \u001b[3m\u001b[90m<dbl>\u001b[39m\u001b[23m 0, 0, 0, 0, 0, 0, 0, 0, 0, 0, 0, 0, 0, 0, 0, 0, 0, 0,...\n",
      "$ d_1986        \u001b[3m\u001b[90m<dbl>\u001b[39m\u001b[23m 1, 1, 1, 1, 1, 1, 1, 1, 1, 1, 1, 1, 1, 1, 1, 1, 1, 1,...\n",
      "$ d_1987        \u001b[3m\u001b[90m<dbl>\u001b[39m\u001b[23m 0, 0, 0, 0, 0, 0, 0, 0, 0, 0, 0, 0, 0, 0, 0, 0, 0, 0,...\n",
      "$ d_1988        \u001b[3m\u001b[90m<dbl>\u001b[39m\u001b[23m 0, 0, 0, 0, 0, 0, 0, 0, 0, 0, 0, 0, 0, 0, 0, 0, 0, 0,...\n",
      "$ d_1989        \u001b[3m\u001b[90m<dbl>\u001b[39m\u001b[23m 0, 0, 0, 0, 0, 0, 0, 0, 0, 0, 0, 0, 0, 0, 0, 0, 0, 0,...\n",
      "$ d_1990        \u001b[3m\u001b[90m<dbl>\u001b[39m\u001b[23m 0, 0, 0, 0, 0, 0, 0, 0, 0, 0, 0, 0, 0, 0, 0, 0, 0, 0,...\n",
      "$ d_1991        \u001b[3m\u001b[90m<dbl>\u001b[39m\u001b[23m 0, 0, 0, 0, 0, 0, 0, 0, 0, 0, 0, 0, 0, 0, 0, 0, 0, 0,...\n",
      "$ d_1992        \u001b[3m\u001b[90m<dbl>\u001b[39m\u001b[23m 0, 0, 0, 0, 0, 0, 0, 0, 0, 0, 0, 0, 0, 0, 0, 0, 0, 0,...\n",
      "$ d_1993        \u001b[3m\u001b[90m<dbl>\u001b[39m\u001b[23m 0, 0, 0, 0, 0, 0, 0, 0, 0, 0, 0, 0, 0, 0, 0, 0, 0, 0,...\n",
      "$ d_1994        \u001b[3m\u001b[90m<dbl>\u001b[39m\u001b[23m 0, 0, 0, 0, 0, 0, 0, 0, 0, 0, 0, 0, 0, 0, 0, 0, 0, 0,...\n",
      "$ d_1995        \u001b[3m\u001b[90m<dbl>\u001b[39m\u001b[23m 0, 0, 0, 0, 0, 0, 0, 0, 0, 0, 0, 0, 0, 0, 0, 0, 0, 0,...\n",
      "$ d_1996        \u001b[3m\u001b[90m<dbl>\u001b[39m\u001b[23m 0, 0, 0, 0, 0, 0, 0, 0, 0, 0, 0, 0, 0, 0, 0, 0, 0, 0,...\n",
      "$ d_1997        \u001b[3m\u001b[90m<dbl>\u001b[39m\u001b[23m 0, 0, 0, 0, 0, 0, 0, 0, 0, 0, 0, 0, 0, 0, 0, 0, 0, 0,...\n",
      "$ d_1998        \u001b[3m\u001b[90m<dbl>\u001b[39m\u001b[23m 0, 0, 0, 0, 0, 0, 0, 0, 0, 0, 0, 0, 0, 0, 0, 0, 0, 0,...\n",
      "$ d_1999        \u001b[3m\u001b[90m<dbl>\u001b[39m\u001b[23m 0, 0, 0, 0, 0, 0, 0, 0, 0, 0, 0, 0, 0, 0, 0, 0, 0, 0,...\n",
      "$ d_2000        \u001b[3m\u001b[90m<dbl>\u001b[39m\u001b[23m 0, 0, 0, 0, 0, 0, 0, 0, 0, 0, 0, 0, 0, 0, 0, 0, 0, 0,...\n",
      "$ d_2001        \u001b[3m\u001b[90m<dbl>\u001b[39m\u001b[23m 0, 0, 0, 0, 0, 0, 0, 0, 0, 0, 0, 0, 0, 0, 0, 0, 0, 0,...\n",
      "$ d_2002        \u001b[3m\u001b[90m<dbl>\u001b[39m\u001b[23m 0, 0, 0, 0, 0, 0, 0, 0, 0, 0, 0, 0, 0, 0, 0, 0, 0, 0,...\n",
      "$ d_2003        \u001b[3m\u001b[90m<dbl>\u001b[39m\u001b[23m 0, 0, 0, 0, 0, 0, 0, 0, 0, 0, 0, 0, 0, 0, 0, 0, 0, 0,...\n",
      "$ d_2004        \u001b[3m\u001b[90m<dbl>\u001b[39m\u001b[23m 0, 0, 0, 0, 0, 0, 0, 0, 0, 0, 0, 0, 0, 0, 0, 0, 0, 0,...\n",
      "$ d_2005        \u001b[3m\u001b[90m<dbl>\u001b[39m\u001b[23m 0, 0, 0, 0, 0, 0, 0, 0, 0, 0, 0, 0, 0, 0, 0, 0, 0, 0,...\n",
      "$ d_2006        \u001b[3m\u001b[90m<dbl>\u001b[39m\u001b[23m 0, 0, 0, 0, 0, 0, 0, 0, 0, 0, 0, 0, 0, 0, 0, 0, 0, 0,...\n",
      "$ d_2007        \u001b[3m\u001b[90m<dbl>\u001b[39m\u001b[23m 0, 0, 0, 0, 0, 0, 0, 0, 0, 0, 0, 0, 0, 0, 0, 0, 0, 0,...\n",
      "$ d_2008        \u001b[3m\u001b[90m<dbl>\u001b[39m\u001b[23m 0, 0, 0, 0, 0, 0, 0, 0, 0, 0, 0, 0, 0, 0, 0, 0, 0, 0,...\n",
      "$ d_2009        \u001b[3m\u001b[90m<dbl>\u001b[39m\u001b[23m 0, 0, 0, 0, 0, 0, 0, 0, 0, 0, 0, 0, 0, 0, 0, 0, 0, 0,...\n",
      "$ d_2010        \u001b[3m\u001b[90m<dbl>\u001b[39m\u001b[23m 0, 0, 0, 0, 0, 0, 0, 0, 0, 0, 0, 0, 0, 0, 0, 0, 0, 0,...\n"
     ]
    }
   ],
   "source": [
    "glimpse(gss)"
   ]
  },
  {
   "cell_type": "code",
   "execution_count": 29,
   "metadata": {},
   "outputs": [
    {
     "name": "stdout",
     "output_type": "stream",
     "text": [
      "Observations: 36,501\n",
      "Variables: 7\n",
      "$ year      \u001b[3m\u001b[90m<dbl>\u001b[39m\u001b[23m 1986, 1986, 1986, 1986, 1986, 1986, 1986, 1986, 1986, 198...\n",
      "$ treatment \u001b[3m\u001b[90m<dbl>\u001b[39m\u001b[23m 0, 0, 0, 0, 0, 0, 1, 0, 0, 1, 0, 1, 1, 0, 0, 0, 1, 1, 0, ...\n",
      "$ response  \u001b[3m\u001b[90m<dbl>\u001b[39m\u001b[23m 0, 1, 1, 0, 0, 0, 0, 0, 0, 1, 1, 0, 0, 0, 1, 1, 0, 0, 1, ...\n",
      "$ partyid   \u001b[3m\u001b[90m<dbl>\u001b[39m\u001b[23m 3, 6, 0, 0, 0, 1, 5, 1, 1, 4, 1, 2, 0, 0, 1, 1, 1, 1, 1, ...\n",
      "$ polviews  \u001b[3m\u001b[90m<dbl>\u001b[39m\u001b[23m 4.000000, 6.000000, 2.000000, 4.000000, 4.000000, 1.00000...\n",
      "$ age       \u001b[3m\u001b[90m<dbl>\u001b[39m\u001b[23m 28, 54, 44, 77, 44, 47, 19, 36, 27, 51, 24, 37, 25, 36, 6...\n",
      "$ educ      \u001b[3m\u001b[90m<dbl>\u001b[39m\u001b[23m 14, 16, 16, 14, 14, 10, 10, 18, 17, 18, 12, 12, 11, 6, 8,...\n"
     ]
    }
   ],
   "source": [
    "gss <- gss %>% select(c('year', 'w', 'y', 'partyid', 'polviews', 'age', 'educ'))\n",
    "gss <- gss %>% rename(treatment=w, response=y)\n",
    "glimpse(gss)"
   ]
  },
  {
   "cell_type": "markdown",
   "metadata": {},
   "source": [
    "### Average Treatment Effect"
   ]
  },
  {
   "cell_type": "code",
   "execution_count": 30,
   "metadata": {},
   "outputs": [
    {
     "data": {
      "text/html": [
       "<table>\n",
       "<caption>A tibble: 1 × 1</caption>\n",
       "<thead>\n",
       "\t<tr><th scope=col>ate</th></tr>\n",
       "\t<tr><th scope=col>&lt;dbl&gt;</th></tr>\n",
       "</thead>\n",
       "<tbody>\n",
       "\t<tr><td>-0.3379543</td></tr>\n",
       "</tbody>\n",
       "</table>\n"
      ],
      "text/latex": [
       "A tibble: 1 × 1\n",
       "\\begin{tabular}{l}\n",
       " ate\\\\\n",
       " <dbl>\\\\\n",
       "\\hline\n",
       "\t -0.3379543\\\\\n",
       "\\end{tabular}\n"
      ],
      "text/markdown": [
       "\n",
       "A tibble: 1 × 1\n",
       "\n",
       "| ate &lt;dbl&gt; |\n",
       "|---|\n",
       "| -0.3379543 |\n",
       "\n"
      ],
      "text/plain": [
       "  ate       \n",
       "1 -0.3379543"
      ]
     },
     "metadata": {},
     "output_type": "display_data"
    }
   ],
   "source": [
    "# Average treatment effect by using dplyr\n",
    "gss %>%\n",
    "    group_by(treatment) %>%\n",
    "    summarize(avg=mean(response)) %>%\n",
    "    summarize(ate=avg[treatment==1]-avg[treatment==0])"
   ]
  },
  {
   "cell_type": "code",
   "execution_count": 31,
   "metadata": {},
   "outputs": [
    {
     "data": {
      "text/plain": [
       "\n",
       "Call:\n",
       "lm(formula = response ~ treatment, data = gss)\n",
       "\n",
       "Residuals:\n",
       "     Min       1Q   Median       3Q      Max \n",
       "-0.42920 -0.42920 -0.09125 -0.09125  0.90875 \n",
       "\n",
       "Coefficients:\n",
       "             Estimate Std. Error t value Pr(>|t|)    \n",
       "(Intercept)  0.429200   0.003050  140.71   <2e-16 ***\n",
       "treatment   -0.337954   0.004178  -80.88   <2e-16 ***\n",
       "---\n",
       "Signif. codes:  0 '***' 0.001 '**' 0.01 '*' 0.05 '.' 0.1 ' ' 1\n",
       "\n",
       "Residual standard error: 0.3983 on 36499 degrees of freedom\n",
       "Multiple R-squared:  0.152,\tAdjusted R-squared:  0.152 \n",
       "F-statistic:  6542 on 1 and 36499 DF,  p-value: < 2.2e-16\n"
      ]
     },
     "metadata": {},
     "output_type": "display_data"
    }
   ],
   "source": [
    "# Average treatment effect by usign lm\n",
    "summary(lm(response~treatment, data=gss))"
   ]
  },
  {
   "cell_type": "markdown",
   "metadata": {},
   "source": [
    "### Heterogeneous Treatment Effects"
   ]
  },
  {
   "cell_type": "code",
   "execution_count": 32,
   "metadata": {},
   "outputs": [],
   "source": [
    "library(randomForest)"
   ]
  },
  {
   "cell_type": "code",
   "execution_count": 33,
   "metadata": {},
   "outputs": [
    {
     "name": "stdout",
     "output_type": "stream",
     "text": [
      "Observations: 33,279\n",
      "Variables: 7\n",
      "$ year      \u001b[3m\u001b[90m<dbl>\u001b[39m\u001b[23m 1986, 1986, 1986, 1986, 1986, 1986, 1986, 1986, 1986, 198...\n",
      "$ treatment \u001b[3m\u001b[90m<dbl>\u001b[39m\u001b[23m 0, 0, 0, 0, 0, 0, 1, 0, 0, 1, 0, 1, 1, 0, 0, 0, 1, 1, 0, ...\n",
      "$ response  \u001b[3m\u001b[90m<dbl>\u001b[39m\u001b[23m 0, 1, 1, 0, 0, 0, 0, 0, 0, 1, 1, 0, 0, 0, 1, 1, 0, 0, 1, ...\n",
      "$ partyid   \u001b[3m\u001b[90m<dbl>\u001b[39m\u001b[23m 3, 6, 0, 0, 0, 1, 5, 1, 1, 4, 1, 2, 0, 0, 1, 1, 1, 1, 1, ...\n",
      "$ polviews  \u001b[3m\u001b[90m<dbl>\u001b[39m\u001b[23m 4.000000, 6.000000, 2.000000, 4.000000, 4.000000, 1.00000...\n",
      "$ age       \u001b[3m\u001b[90m<dbl>\u001b[39m\u001b[23m 28, 54, 44, 77, 44, 47, 19, 36, 27, 51, 24, 37, 25, 36, 6...\n",
      "$ educ      \u001b[3m\u001b[90m<dbl>\u001b[39m\u001b[23m 14, 16, 16, 14, 14, 10, 10, 18, 17, 18, 12, 12, 11, 6, 8,...\n"
     ]
    }
   ],
   "source": [
    "gss <- gss %>% drop_na()\n",
    "glimpse(gss)"
   ]
  },
  {
   "cell_type": "code",
   "execution_count": 34,
   "metadata": {},
   "outputs": [
    {
     "name": "stderr",
     "output_type": "stream",
     "text": [
      "Warning message in randomForest.default(m, y, ...):\n",
      "\"The response has five or fewer unique values.  Are you sure you want to do regression?\"\n"
     ]
    }
   ],
   "source": [
    "m0 <- randomForest(response ~ . -treatment, data=filter(gss, treatment==0))"
   ]
  },
  {
   "cell_type": "code",
   "execution_count": 35,
   "metadata": {},
   "outputs": [
    {
     "name": "stderr",
     "output_type": "stream",
     "text": [
      "Warning message in randomForest.default(m, y, ...):\n",
      "\"The response has five or fewer unique values.  Are you sure you want to do regression?\"\n"
     ]
    }
   ],
   "source": [
    "m1 <- randomForest(response ~ . -treatment, data=filter(gss, treatment==1))"
   ]
  },
  {
   "cell_type": "code",
   "execution_count": 36,
   "metadata": {},
   "outputs": [],
   "source": [
    "y_0 <- predict(m0, gss, type='response')\n",
    "y_1 <- predict(m1, gss, type='respo')"
   ]
  },
  {
   "cell_type": "code",
   "execution_count": 37,
   "metadata": {},
   "outputs": [],
   "source": [
    "cate <- y_1-y_0"
   ]
  },
  {
   "cell_type": "code",
   "execution_count": 38,
   "metadata": {},
   "outputs": [
    {
     "data": {
      "text/plain": [
       "   Min. 1st Qu.  Median    Mean 3rd Qu.    Max. \n",
       "-0.6893 -0.4153 -0.3385 -0.3360 -0.2616  0.2240 "
      ]
     },
     "metadata": {},
     "output_type": "display_data"
    }
   ],
   "source": [
    "summary(cate)"
   ]
  },
  {
   "cell_type": "code",
   "execution_count": 39,
   "metadata": {},
   "outputs": [
    {
     "data": {
      "image/png": "[encoded data removed]",
      "text/plain": [
       "Plot with title \"Histogram of cate\""
      ]
     },
     "metadata": {
      "image/png": {
       "height": 420,
       "width": 420
      },
      "text/plain": {
       "height": 420,
       "width": 420
      }
     },
     "output_type": "display_data"
    }
   ],
   "source": [
    "hist(cate)"
   ]
  },
  {
   "cell_type": "markdown",
   "metadata": {},
   "source": [
    "### Generalized Random Forest (GRF)"
   ]
  },
  {
   "cell_type": "code",
   "execution_count": 40,
   "metadata": {},
   "outputs": [],
   "source": [
    "library(grf)"
   ]
  },
  {
   "cell_type": "code",
   "execution_count": 41,
   "metadata": {},
   "outputs": [],
   "source": [
    "x <- model.matrix(response ~ . -treatment, data=gss)\n",
    "y <- gss$response\n",
    "tmt <- gss$treatment"
   ]
  },
  {
   "cell_type": "code",
   "execution_count": 42,
   "metadata": {},
   "outputs": [],
   "source": [
    "m <- causal_forest(x, y, tmt)"
   ]
  },
  {
   "cell_type": "code",
   "execution_count": 43,
   "metadata": {},
   "outputs": [],
   "source": [
    "cate <- predict(m, estimate.variance=T)"
   ]
  },
  {
   "cell_type": "code",
   "execution_count": 44,
   "metadata": {},
   "outputs": [
    {
     "data": {
      "text/plain": [
       "  predictions       variance.estimates  debiased.error      \n",
       " Min.   :-0.58776   Min.   :0.0001958   Min.   :-0.0000127  \n",
       " 1st Qu.:-0.39561   1st Qu.:0.0012422   1st Qu.: 0.0055457  \n",
       " Median :-0.33033   Median :0.0020450   Median : 0.0604639  \n",
       " Mean   :-0.33320   Mean   :0.0023759   Mean   : 0.1500898  \n",
       " 3rd Qu.:-0.27585   3rd Qu.:0.0031678   3rd Qu.: 0.2280817  \n",
       " Max.   :-0.06426   Max.   :0.0134164   Max.   : 1.1273204  \n",
       "  excess.error      \n",
       " Min.   :8.848e-07  \n",
       " 1st Qu.:8.430e-06  \n",
       " Median :1.871e-05  \n",
       " Mean   :1.921e-05  \n",
       " 3rd Qu.:2.889e-05  \n",
       " Max.   :6.252e-05  "
      ]
     },
     "metadata": {},
     "output_type": "display_data"
    }
   ],
   "source": [
    "summary(cate)"
   ]
  },
  {
   "cell_type": "code",
   "execution_count": 46,
   "metadata": {},
   "outputs": [
    {
     "data": {
      "image/png": "[encoded data removed]",
      "text/plain": [
       "Plot with title \"Histogram of cate$predictions\""
      ]
     },
     "metadata": {
      "image/png": {
       "height": 420,
       "width": 420
      },
      "text/plain": {
       "height": 420,
       "width": 420
      }
     },
     "output_type": "display_data"
    }
   ],
   "source": [
    "hist(cate$predictions)"
   ]
  },
  {
   "cell_type": "markdown",
   "metadata": {},
   "source": [
    "### Interactive, split, and x-learner with hete"
   ]
  },
  {
   "cell_type": "code",
   "execution_count": 47,
   "metadata": {},
   "outputs": [],
   "source": [
    "library(hete)\n",
    "m <- hete_single(factor(response) ~ year + educ + age|treatment, data=gss, est=random_forest)"
   ]
  },
  {
   "cell_type": "code",
   "execution_count": 48,
   "metadata": {},
   "outputs": [
    {
     "data": {
      "image/png": "[encoded data removed]",
      "text/plain": [
       "plot without title"
      ]
     },
     "metadata": {
      "image/png": {
       "height": 420,
       "width": 420
      },
      "text/plain": {
       "height": 420,
       "width": 420
      }
     },
     "output_type": "display_data"
    }
   ],
   "source": [
    "plot(m)"
   ]
  },
  {
   "cell_type": "code",
   "execution_count": 49,
   "metadata": {},
   "outputs": [],
   "source": [
    "cate <- predict(m, gss)"
   ]
  },
  {
   "cell_type": "code",
   "execution_count": 50,
   "metadata": {},
   "outputs": [
    {
     "data": {
      "text/plain": [
       "   Min. 1st Qu.  Median    Mean 3rd Qu.    Max. \n",
       "-0.9950 -0.4900 -0.2700 -0.3287 -0.1200  0.6050 "
      ]
     },
     "metadata": {},
     "output_type": "display_data"
    }
   ],
   "source": [
    "summary(cate)"
   ]
  },
  {
   "cell_type": "code",
   "execution_count": 51,
   "metadata": {},
   "outputs": [
    {
     "data": {
      "image/png": "[encoded data removed]",
      "text/plain": [
       "Plot with title \"Histogram of cate\""
      ]
     },
     "metadata": {
      "image/png": {
       "height": 420,
       "width": 420
      },
      "text/plain": {
       "height": 420,
       "width": 420
      }
     },
     "output_type": "display_data"
    }
   ],
   "source": [
    "hist(cate)"
   ]
  },
  {
   "cell_type": "markdown",
   "metadata": {},
   "source": [
    "So should we rebrand the term 'welfare'? Yes, we should as most of the heterogeneous groups response to the term 'assistance' more favarably than the term 'welfare' with the average treatment response of -33%"
   ]
  }
 ],
 "metadata": {
  "kernelspec": {
   "display_name": "R",
   "language": "R",
   "name": "ir"
  },
  "language_info": {
   "codemirror_mode": "r",
   "file_extension": ".r",
   "mimetype": "text/x-r-source",
   "name": "R",
   "pygments_lexer": "r",
   "version": "3.6.2"
  }
 },
 "nbformat": 4,
 "nbformat_minor": 4
}
